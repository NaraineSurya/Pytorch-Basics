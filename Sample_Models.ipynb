{
  "nbformat": 4,
  "nbformat_minor": 0,
  "metadata": {
    "colab": {
      "provenance": [],
      "authorship_tag": "ABX9TyOvAwatkAFbUjEtmQp7v6jW",
      "include_colab_link": true
    },
    "kernelspec": {
      "name": "python3",
      "display_name": "Python 3"
    },
    "language_info": {
      "name": "python"
    }
  },
  "cells": [
    {
      "cell_type": "markdown",
      "metadata": {
        "id": "view-in-github",
        "colab_type": "text"
      },
      "source": [
        "<a href=\"https://colab.research.google.com/github/NaraineSurya/Pytorch-Basics/blob/master/Sample_Models.ipynb\" target=\"_parent\"><img src=\"https://colab.research.google.com/assets/colab-badge.svg\" alt=\"Open In Colab\"/></a>"
      ]
    },
    {
      "cell_type": "markdown",
      "source": [
        "# **Linear Regression**"
      ],
      "metadata": {
        "id": "o5QTYbEo7Uo3"
      }
    },
    {
      "cell_type": "code",
      "execution_count": 9,
      "metadata": {
        "colab": {
          "base_uri": "https://localhost:8080/",
          "height": 604
        },
        "id": "-aViMSsVz_ch",
        "outputId": "ef7abfff-bc01-4a68-8e5f-057e0e797298"
      },
      "outputs": [
        {
          "output_type": "stream",
          "name": "stdout",
          "text": [
            "Epoch = 0 : Loss = 2159.118896484375\n",
            "Epoch = 10 : Loss = 1634.830322265625\n",
            "Epoch = 20 : Loss = 1261.022705078125\n",
            "Epoch = 30 : Loss = 993.9640502929688\n",
            "Epoch = 40 : Loss = 802.8075561523438\n",
            "Epoch = 50 : Loss = 665.7379760742188\n",
            "Epoch = 60 : Loss = 567.2897338867188\n",
            "Epoch = 70 : Loss = 496.472412109375\n",
            "Epoch = 80 : Loss = 445.4592590332031\n",
            "Epoch = 90 : Loss = 408.6639709472656\n"
          ]
        },
        {
          "output_type": "display_data",
          "data": {
            "text/plain": [
              "<Figure size 640x480 with 1 Axes>"
            ],
            "image/png": "[encoded data removed]"
          },
          "metadata": {}
        }
      ],
      "source": [
        "import torch\n",
        "import torch.nn as nn\n",
        "import numpy as np\n",
        "from sklearn import datasets\n",
        "import matplotlib.pyplot as plt\n",
        "\n",
        "# 0) Prepare Data\n",
        "# 1) Model\n",
        "# 2) Loss and optimizer\n",
        "# 3) Training Loop/Pipeline\n",
        "\n",
        "\n",
        "# 0) Prepare Data\n",
        "x_numpy, y_numpy = datasets.make_regression(n_samples=100, n_features=1, noise=20, random_state=42)\n",
        "X = torch.from_numpy(x_numpy.astype(np.float32))\n",
        "y = torch.from_numpy(y_numpy.astype(np.float32))\n",
        "y = y.view(y.shape[0], 1) # Column Vector\n",
        "\n",
        "# 1) Model\n",
        "class LinearRegression(nn.Module):\n",
        "  def __init__(self, input_dim: int, output_dim: int):\n",
        "    super(LinearRegression, self).__init__()\n",
        "    self.Lin = nn.Linear(input_dim, output_dim)\n",
        "\n",
        "  def forward(self, x):\n",
        "    return self.Lin(x)\n",
        "\n",
        "n_samples, n_features = X.shape\n",
        "input_size = n_features\n",
        "output_size = 1\n",
        "model = LinearRegression(input_size, output_size)\n",
        "\n",
        "# 2) Loss and Optimizer\n",
        "criterion = nn.MSELoss()\n",
        "learning_rate = 0.01\n",
        "optimizer = torch.optim.SGD(model.parameters(), learning_rate)\n",
        "\n",
        "\n",
        "# Training Loop\n",
        "epochs = 100\n",
        "\n",
        "for epoch in range(epochs):\n",
        "  # Prediction\n",
        "  y_pred = model(X)\n",
        "\n",
        "  # Loss Calculation\n",
        "  loss = criterion(y_pred, y)\n",
        "\n",
        "  # Gradient Calculation\n",
        "  loss.backward()\n",
        "\n",
        "  # Update Parameters\n",
        "  optimizer.step()\n",
        "\n",
        "  # Zero the Gradients\n",
        "  optimizer.zero_grad()\n",
        "\n",
        "  if epoch % 10 == 0:\n",
        "    print(f\"Epoch = {epoch} : Loss = {loss.item()}\")\n",
        "\n",
        "# 5) Plotting\n",
        "predicted = model(X).detach().numpy()\n",
        "plt.plot(x_numpy, y_numpy, 'ro')\n",
        "plt.plot(x_numpy, predicted, 'b')\n",
        "plt.show()\n",
        "\n"
      ]
    },
    {
      "cell_type": "code",
      "source": [
        "import torch\n",
        "import torch.nn as nn\n",
        "import numpy as np\n",
        "from sklearn import datasets\n",
        "from sklearn.preprocessing import StandardScaler\n",
        "from sklearn.model_selection import train_test_split\n",
        "\n",
        "# 0) Prepare Data\n",
        "dataset = datasets.load_breast_cancer()\n",
        "X_numpy, y_numpy = dataset.data, dataset.target\n",
        "\n",
        "print(X_numpy.shape)\n",
        "n_samples, n_features = X_numpy.shape\n",
        "\n",
        "X_train, X_test, y_train, y_test = train_test_split(X_numpy, y_numpy, test_size=0.2, random_state=42)\n",
        "sc = StandardScaler()\n",
        "X_train = sc.fit_transform(X_train)\n",
        "X_test = sc.fit_transform(X_test)\n",
        "\n",
        "X_train = torch.from_numpy(X_train.astype(np.float32))\n",
        "X_test = torch.from_numpy(X_test.astype(np.float32))\n",
        "y_train = torch.from_numpy(y_train.astype(np.float32))\n",
        "y_test = torch.from_numpy(y_test.astype(np.float32))\n",
        "\n",
        "y_train = y_train.view(y_train.shape[0], 1)\n",
        "y_test = y_test.view(y_test.shape[0], 1)\n",
        "\n",
        "# 1) Model\n",
        "\n",
        "class LogisticRegression(nn.Module):\n",
        "  def __init__(self, input_dim):\n",
        "    super(LogisticRegression, self).__init__()\n",
        "    self.Lin = nn.Linear(input_dim, 1)\n",
        "\n",
        "  def forward(self, X):\n",
        "    y_predicted = self.Lin(X)\n",
        "    return torch.sigmoid(y_predicted)\n",
        "\n",
        "model = LogisticRegression(n_features)\n",
        "\n",
        "# 2) Loss and optimizer\n",
        "criterion = nn.BCELoss()\n",
        "learning_rate = 0.01\n",
        "optimizer = torch.optim.SGD(model.parameters(), learning_rate)\n",
        "\n",
        "# 3) Training Loop\n",
        "epochs = 100\n",
        "\n",
        "for epoch in range(epochs):\n",
        "  y_pred = model(X_train)\n",
        "\n",
        "  loss = criterion(y_pred, y_train)\n",
        "\n",
        "  loss.backward()\n",
        "\n",
        "  optimizer.step()\n",
        "\n",
        "  optimizer.zero_grad()\n",
        "\n",
        "  if epoch % 10 == 0:\n",
        "    print(f\"Epoch = {epoch} : loss = {loss}\")\n",
        "\n",
        "with torch.no_grad():\n",
        "  y_predicted = model(X_test)\n",
        "  y_predicted_cls = y_predicted.round()\n",
        "  acc = y_predicted_cls.eq(y_test).sum() / float(y_test.shape[0])\n",
        "  print(f\"Accuracy = {acc}\")\n"
      ],
      "metadata": {
        "colab": {
          "base_uri": "https://localhost:8080/"
        },
        "id": "waybvC-N2Xky",
        "outputId": "995e027c-0b15-483e-bae6-3cb99ce714ed"
      },
      "execution_count": 5,
      "outputs": [
        {
          "output_type": "stream",
          "name": "stdout",
          "text": [
            "(569, 30)\n",
            "Epoch = 0 : loss = 0.8113929033279419\n",
            "Epoch = 10 : loss = 0.6202972531318665\n",
            "Epoch = 20 : loss = 0.5122299194335938\n",
            "Epoch = 30 : loss = 0.4442194402217865\n",
            "Epoch = 40 : loss = 0.39737993478775024\n",
            "Epoch = 50 : loss = 0.3629484176635742\n",
            "Epoch = 60 : loss = 0.3363974392414093\n",
            "Epoch = 70 : loss = 0.3151700794696808\n",
            "Epoch = 80 : loss = 0.29771688580513\n",
            "Epoch = 90 : loss = 0.2830449640750885\n",
            "Accuracy = 0.9649122953414917\n"
          ]
        }
      ]
    },
    {
      "cell_type": "code",
      "source": [],
      "metadata": {
        "id": "BEKFOznGywVu"
      },
      "execution_count": null,
      "outputs": []
    }
  ]
}