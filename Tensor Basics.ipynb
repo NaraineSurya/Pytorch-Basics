{
  "nbformat": 4,
  "nbformat_minor": 0,
  "metadata": {
    "colab": {
      "provenance": [],
      "collapsed_sections": [
        "Qi2sfponhWNG"
      ],
      "gpuType": "T4",
      "authorship_tag": "ABX9TyPXsLZ2m+T8hGm0SY1N28RC",
      "include_colab_link": true
    },
    "kernelspec": {
      "name": "python3",
      "display_name": "Python 3"
    },
    "language_info": {
      "name": "python"
    },
    "accelerator": "GPU"
  },
  "cells": [
    {
      "cell_type": "markdown",
      "metadata": {
        "id": "view-in-github",
        "colab_type": "text"
      },
      "source": [
        "<a href=\"https://colab.research.google.com/github/NaraineSurya/Pytorch-Basics/blob/master/Tensor%20Basics.ipynb\" target=\"_parent\"><img src=\"https://colab.research.google.com/assets/colab-badge.svg\" alt=\"Open In Colab\"/></a>"
      ]
    },
    {
      "cell_type": "markdown",
      "source": [
        "# **Tensor Basics**"
      ],
      "metadata": {
        "id": "Qi2sfponhWNG"
      }
    },
    {
      "cell_type": "code",
      "execution_count": 1,
      "metadata": {
        "id": "HyummKG_hDd2"
      },
      "outputs": [],
      "source": [
        "import torch"
      ]
    },
    {
      "cell_type": "code",
      "source": [
        "# Empty tensor\n",
        "x = torch.empty(3)\n",
        "x"
      ],
      "metadata": {
        "colab": {
          "base_uri": "https://localhost:8080/"
        },
        "id": "m726F91Bhb5C",
        "outputId": "1ba221f6-7f90-4505-d235-eb159900a22d"
      },
      "execution_count": 2,
      "outputs": [
        {
          "output_type": "execute_result",
          "data": {
            "text/plain": [
              "tensor([-1.4519e+26,  4.3597e-41, -1.4519e+26])"
            ]
          },
          "metadata": {},
          "execution_count": 2
        }
      ]
    },
    {
      "cell_type": "code",
      "source": [
        "# mpty Tensor in 3-D shape\n",
        "x = torch.empty((3,2,2), dtype=torch.float64)\n",
        "print(x)\n",
        "print(x.shape)\n",
        "print(x.dtype)"
      ],
      "metadata": {
        "colab": {
          "base_uri": "https://localhost:8080/"
        },
        "id": "PDWq23TQhqmr",
        "outputId": "8767b800-8405-4ec2-f79b-5b95af331447"
      },
      "execution_count": 3,
      "outputs": [
        {
          "output_type": "stream",
          "name": "stdout",
          "text": [
            "tensor([[[ 0.0000e+00,  0.0000e+00],\n",
            "         [ 0.0000e+00,  0.0000e+00]],\n",
            "\n",
            "        [[ 0.0000e+00,  0.0000e+00],\n",
            "         [ 0.0000e+00,  0.0000e+00]],\n",
            "\n",
            "        [[ 0.0000e+00, 6.6023e-310],\n",
            "         [6.6023e-310,  0.0000e+00]]], dtype=torch.float64)\n",
            "torch.Size([3, 2, 2])\n",
            "torch.float64\n"
          ]
        }
      ]
    },
    {
      "cell_type": "code",
      "source": [
        "# Tensor with ones\n",
        "x = torch.ones((3,2))\n",
        "print(x)\n",
        "print(x.size())"
      ],
      "metadata": {
        "colab": {
          "base_uri": "https://localhost:8080/"
        },
        "id": "vQVPspc5hzQq",
        "outputId": "832d206a-4ba8-4093-b24b-0c25876e0bf3"
      },
      "execution_count": 4,
      "outputs": [
        {
          "output_type": "stream",
          "name": "stdout",
          "text": [
            "tensor([[1., 1.],\n",
            "        [1., 1.],\n",
            "        [1., 1.]])\n",
            "torch.Size([3, 2])\n"
          ]
        }
      ]
    },
    {
      "cell_type": "code",
      "source": [
        "# Tensor with zeros\n",
        "torch.zeros((4,5), dtype=torch.int64)"
      ],
      "metadata": {
        "colab": {
          "base_uri": "https://localhost:8080/"
        },
        "id": "fAPx1KmPh8lL",
        "outputId": "124fc3e0-bca8-4e22-c0c0-14132c6982b8"
      },
      "execution_count": 5,
      "outputs": [
        {
          "output_type": "execute_result",
          "data": {
            "text/plain": [
              "tensor([[0, 0, 0, 0, 0],\n",
              "        [0, 0, 0, 0, 0],\n",
              "        [0, 0, 0, 0, 0],\n",
              "        [0, 0, 0, 0, 0]])"
            ]
          },
          "metadata": {},
          "execution_count": 5
        }
      ]
    },
    {
      "cell_type": "code",
      "source": [
        "x = torch.rand((2, 2))\n",
        "y = torch.randn((2, 2))\n",
        "print(x)\n",
        "print(y)"
      ],
      "metadata": {
        "colab": {
          "base_uri": "https://localhost:8080/"
        },
        "id": "aA-6V01-iBmZ",
        "outputId": "3fe8557d-9012-424c-f7b6-f9be46224a31"
      },
      "execution_count": 6,
      "outputs": [
        {
          "output_type": "stream",
          "name": "stdout",
          "text": [
            "tensor([[0.0773, 0.3594],\n",
            "        [0.5635, 0.7530]])\n",
            "tensor([[ 1.0135,  1.7773],\n",
            "        [ 0.5454, -0.8101]])\n"
          ]
        }
      ]
    },
    {
      "cell_type": "markdown",
      "source": [
        "# **Arithmetic Operations**"
      ],
      "metadata": {
        "id": "kn86o4QIl4l_"
      }
    },
    {
      "cell_type": "code",
      "source": [
        "x = torch.tensor([[1,2,3], [4,5,6]])\n",
        "y = torch.tensor([[11,22,33], [44,55,66]])\n",
        "\n",
        "print(x)\n",
        "print(y)"
      ],
      "metadata": {
        "colab": {
          "base_uri": "https://localhost:8080/"
        },
        "id": "VN0fQ-_xlPkX",
        "outputId": "140e0a7b-683e-41a9-f729-5044bd915399"
      },
      "execution_count": 7,
      "outputs": [
        {
          "output_type": "stream",
          "name": "stdout",
          "text": [
            "tensor([[1, 2, 3],\n",
            "        [4, 5, 6]])\n",
            "tensor([[11, 22, 33],\n",
            "        [44, 55, 66]])\n"
          ]
        }
      ]
    },
    {
      "cell_type": "code",
      "source": [
        "# Adding Tensors\n",
        "z = x + y\n",
        "print(z)\n",
        "print(torch.add(x, y))\n",
        "y.add_(x) #Inplace Addition in the tensor\n",
        "print(y)"
      ],
      "metadata": {
        "colab": {
          "base_uri": "https://localhost:8080/"
        },
        "id": "bNmkKX-RmBm8",
        "outputId": "310bfa5d-cb69-43db-f6e1-34088a1f7881"
      },
      "execution_count": 8,
      "outputs": [
        {
          "output_type": "stream",
          "name": "stdout",
          "text": [
            "tensor([[12, 24, 36],\n",
            "        [48, 60, 72]])\n",
            "tensor([[12, 24, 36],\n",
            "        [48, 60, 72]])\n",
            "tensor([[12, 24, 36],\n",
            "        [48, 60, 72]])\n"
          ]
        }
      ]
    },
    {
      "cell_type": "code",
      "source": [
        "# Subracting Tensors\n",
        "\n",
        "x = torch.tensor([[1,2,3], [4,5,6]])\n",
        "y = torch.tensor([[11,22,33], [44,55,66]])\n",
        "\n",
        "z = x - y\n",
        "print(z)\n",
        "print(torch.sub(x, y))\n",
        "y.sub_(x) # Inplace subtraction in the tensor y\n",
        "print(y)"
      ],
      "metadata": {
        "colab": {
          "base_uri": "https://localhost:8080/"
        },
        "id": "1PcjtrBtmgyZ",
        "outputId": "c8f5307a-d84a-4c71-ec8e-b3663dd83b7a"
      },
      "execution_count": 9,
      "outputs": [
        {
          "output_type": "stream",
          "name": "stdout",
          "text": [
            "tensor([[-10, -20, -30],\n",
            "        [-40, -50, -60]])\n",
            "tensor([[-10, -20, -30],\n",
            "        [-40, -50, -60]])\n",
            "tensor([[10, 20, 30],\n",
            "        [40, 50, 60]])\n"
          ]
        }
      ]
    },
    {
      "cell_type": "code",
      "source": [
        "# Multiplying Tensors\n",
        "\n",
        "x = torch.tensor([[1,2,3], [4,5,6]])\n",
        "y = torch.tensor([[11,22,33], [44,55,66]])\n",
        "\n",
        "z = x * y\n",
        "print(z)\n",
        "print(torch.mul(x, y))\n",
        "print(y.mul_(x))"
      ],
      "metadata": {
        "colab": {
          "base_uri": "https://localhost:8080/"
        },
        "id": "vf6GSHd4nPlq",
        "outputId": "c92f930c-03d7-4a88-8ec1-a566a215c82d"
      },
      "execution_count": 10,
      "outputs": [
        {
          "output_type": "stream",
          "name": "stdout",
          "text": [
            "tensor([[ 11,  44,  99],\n",
            "        [176, 275, 396]])\n",
            "tensor([[ 11,  44,  99],\n",
            "        [176, 275, 396]])\n",
            "tensor([[ 11,  44,  99],\n",
            "        [176, 275, 396]])\n"
          ]
        }
      ]
    },
    {
      "cell_type": "code",
      "source": [
        "# Dividing Tensors\n",
        "\n",
        "x = torch.tensor([[1,2,3], [4,5,6]], dtype=torch.float32)\n",
        "y = torch.tensor([[11,22,33], [44,55,66]], dtype=torch.float32)\n",
        "\n",
        "z = x / y\n",
        "print(z)\n",
        "print(torch.div(x, y))\n",
        "print(x.div_(y))"
      ],
      "metadata": {
        "colab": {
          "base_uri": "https://localhost:8080/"
        },
        "id": "MlujGAn2nQVJ",
        "outputId": "ffb59b6e-0ccd-4ae5-fc8e-e682168c863b"
      },
      "execution_count": 11,
      "outputs": [
        {
          "output_type": "stream",
          "name": "stdout",
          "text": [
            "tensor([[0.0909, 0.0909, 0.0909],\n",
            "        [0.0909, 0.0909, 0.0909]])\n",
            "tensor([[0.0909, 0.0909, 0.0909],\n",
            "        [0.0909, 0.0909, 0.0909]])\n",
            "tensor([[0.0909, 0.0909, 0.0909],\n",
            "        [0.0909, 0.0909, 0.0909]])\n"
          ]
        }
      ]
    },
    {
      "cell_type": "code",
      "source": [],
      "metadata": {
        "id": "AocUdZqlnwWC"
      },
      "execution_count": 11,
      "outputs": []
    },
    {
      "cell_type": "markdown",
      "source": [
        "# **Tensor Indexing**"
      ],
      "metadata": {
        "id": "glXvb71Otc-f"
      }
    },
    {
      "cell_type": "code",
      "source": [
        "x = torch.rand((5,3))\n",
        "x"
      ],
      "metadata": {
        "colab": {
          "base_uri": "https://localhost:8080/"
        },
        "id": "eDH42aGuthBp",
        "outputId": "d29c132d-efb5-4c73-cb84-eee3f814ccf2"
      },
      "execution_count": 12,
      "outputs": [
        {
          "output_type": "execute_result",
          "data": {
            "text/plain": [
              "tensor([[0.6332, 0.8072, 0.1458],\n",
              "        [0.3732, 0.6034, 0.1955],\n",
              "        [0.8208, 0.3907, 0.9344],\n",
              "        [0.4017, 0.4815, 0.8401],\n",
              "        [0.0071, 0.8126, 0.9625]])"
            ]
          },
          "metadata": {},
          "execution_count": 12
        }
      ]
    },
    {
      "cell_type": "code",
      "source": [
        "x[1, 2]"
      ],
      "metadata": {
        "colab": {
          "base_uri": "https://localhost:8080/"
        },
        "id": "5PqGQIqEtqCT",
        "outputId": "7ac9c251-2fd9-45eb-e40c-e88b60c483ef"
      },
      "execution_count": 13,
      "outputs": [
        {
          "output_type": "execute_result",
          "data": {
            "text/plain": [
              "tensor(0.1955)"
            ]
          },
          "metadata": {},
          "execution_count": 13
        }
      ]
    },
    {
      "cell_type": "code",
      "source": [
        "x[1: ]"
      ],
      "metadata": {
        "colab": {
          "base_uri": "https://localhost:8080/"
        },
        "id": "qXvMmkDbtruF",
        "outputId": "cbf4f701-0c28-42eb-9615-280b792ee22c"
      },
      "execution_count": 14,
      "outputs": [
        {
          "output_type": "execute_result",
          "data": {
            "text/plain": [
              "tensor([[0.3732, 0.6034, 0.1955],\n",
              "        [0.8208, 0.3907, 0.9344],\n",
              "        [0.4017, 0.4815, 0.8401],\n",
              "        [0.0071, 0.8126, 0.9625]])"
            ]
          },
          "metadata": {},
          "execution_count": 14
        }
      ]
    },
    {
      "cell_type": "code",
      "source": [
        "x[4, -1]"
      ],
      "metadata": {
        "colab": {
          "base_uri": "https://localhost:8080/"
        },
        "id": "gJVnT2HsuCDk",
        "outputId": "36033d9c-0e01-4af3-9433-67e840a591f4"
      },
      "execution_count": 15,
      "outputs": [
        {
          "output_type": "execute_result",
          "data": {
            "text/plain": [
              "tensor(0.9625)"
            ]
          },
          "metadata": {},
          "execution_count": 15
        }
      ]
    },
    {
      "cell_type": "markdown",
      "source": [
        "# **Reshaping Tensors**"
      ],
      "metadata": {
        "id": "wheOPhA-uQJM"
      }
    },
    {
      "cell_type": "code",
      "source": [
        "x = torch.rand((4,2))\n",
        "x"
      ],
      "metadata": {
        "colab": {
          "base_uri": "https://localhost:8080/"
        },
        "id": "suuDd2r1uEZI",
        "outputId": "e62358a4-24c1-4259-97c8-611760c8cc09"
      },
      "execution_count": 16,
      "outputs": [
        {
          "output_type": "execute_result",
          "data": {
            "text/plain": [
              "tensor([[0.4474, 0.7959],\n",
              "        [0.5715, 0.1486],\n",
              "        [0.0018, 0.0068],\n",
              "        [0.9148, 0.9117]])"
            ]
          },
          "metadata": {},
          "execution_count": 16
        }
      ]
    },
    {
      "cell_type": "code",
      "source": [
        "# View Function is used for reshaping the tensors\n",
        "print(x.view(1, -1))"
      ],
      "metadata": {
        "colab": {
          "base_uri": "https://localhost:8080/"
        },
        "id": "olGWK3o5uZAM",
        "outputId": "5c947b8c-000b-4d7b-f85c-3ea487799009"
      },
      "execution_count": 17,
      "outputs": [
        {
          "output_type": "stream",
          "name": "stdout",
          "text": [
            "tensor([[0.4474, 0.7959, 0.5715, 0.1486, 0.0018, 0.0068, 0.9148, 0.9117]])\n"
          ]
        }
      ]
    },
    {
      "cell_type": "code",
      "source": [
        "print(x.view(2,2,2))"
      ],
      "metadata": {
        "colab": {
          "base_uri": "https://localhost:8080/"
        },
        "id": "_74Yc5F2ucpu",
        "outputId": "916980d9-615b-4e67-cfff-5c2ae7b5929c"
      },
      "execution_count": 18,
      "outputs": [
        {
          "output_type": "stream",
          "name": "stdout",
          "text": [
            "tensor([[[0.4474, 0.7959],\n",
            "         [0.5715, 0.1486]],\n",
            "\n",
            "        [[0.0018, 0.0068],\n",
            "         [0.9148, 0.9117]]])\n"
          ]
        }
      ]
    },
    {
      "cell_type": "code",
      "source": [
        "print(x.view(8, -1))"
      ],
      "metadata": {
        "colab": {
          "base_uri": "https://localhost:8080/"
        },
        "id": "SusdaDgWul8N",
        "outputId": "ad8b7a41-042d-4c1f-dbc2-121525d3ea3f"
      },
      "execution_count": 19,
      "outputs": [
        {
          "output_type": "stream",
          "name": "stdout",
          "text": [
            "tensor([[0.4474],\n",
            "        [0.7959],\n",
            "        [0.5715],\n",
            "        [0.1486],\n",
            "        [0.0018],\n",
            "        [0.0068],\n",
            "        [0.9148],\n",
            "        [0.9117]])\n"
          ]
        }
      ]
    },
    {
      "cell_type": "code",
      "source": [],
      "metadata": {
        "id": "yBr4w_dVusCx"
      },
      "execution_count": 19,
      "outputs": []
    },
    {
      "cell_type": "markdown",
      "source": [
        "# **Tensor Type Conversion**"
      ],
      "metadata": {
        "id": "fDw9IJq2uykK"
      }
    },
    {
      "cell_type": "code",
      "source": [
        "import numpy as np\n",
        "\n",
        "a = torch.ones((2,4), dtype=torch.int64)\n",
        "print(a)\n",
        "b = a.numpy()\n",
        "print(b)\n",
        "\n",
        "# If torch is on cpu then numpy array as well as the torch tensor will share the same memory location\n",
        "\n",
        "# If add a it will add it to b too\n",
        "a.add_(1)\n",
        "print(a)\n",
        "print(b)"
      ],
      "metadata": {
        "colab": {
          "base_uri": "https://localhost:8080/"
        },
        "id": "J8N_GlA5u2Oo",
        "outputId": "3a753435-a7b7-4fca-e0a1-e8dc6dd3badd"
      },
      "execution_count": 20,
      "outputs": [
        {
          "output_type": "stream",
          "name": "stdout",
          "text": [
            "tensor([[1, 1, 1, 1],\n",
            "        [1, 1, 1, 1]])\n",
            "[[1 1 1 1]\n",
            " [1 1 1 1]]\n",
            "tensor([[2, 2, 2, 2],\n",
            "        [2, 2, 2, 2]])\n",
            "[[2 2 2 2]\n",
            " [2 2 2 2]]\n"
          ]
        }
      ]
    },
    {
      "cell_type": "code",
      "source": [
        "a = np.ones((4,3), dtype='int32')\n",
        "b = torch.from_numpy(a)\n",
        "print(a)\n",
        "print(b)\n",
        "\n",
        "a += 1\n",
        "print(a)\n",
        "print(b)"
      ],
      "metadata": {
        "colab": {
          "base_uri": "https://localhost:8080/"
        },
        "id": "NmmzHn54vaT8",
        "outputId": "d87477ea-736b-49b2-d0d8-d83b100120c6"
      },
      "execution_count": 21,
      "outputs": [
        {
          "output_type": "stream",
          "name": "stdout",
          "text": [
            "[[1 1 1]\n",
            " [1 1 1]\n",
            " [1 1 1]\n",
            " [1 1 1]]\n",
            "tensor([[1, 1, 1],\n",
            "        [1, 1, 1],\n",
            "        [1, 1, 1],\n",
            "        [1, 1, 1]], dtype=torch.int32)\n",
            "[[2 2 2]\n",
            " [2 2 2]\n",
            " [2 2 2]\n",
            " [2 2 2]]\n",
            "tensor([[2, 2, 2],\n",
            "        [2, 2, 2],\n",
            "        [2, 2, 2],\n",
            "        [2, 2, 2]], dtype=torch.int32)\n"
          ]
        }
      ]
    },
    {
      "cell_type": "markdown",
      "source": [
        "# **Accessing CUDA GPU**"
      ],
      "metadata": {
        "id": "3U_N8at_xseu"
      }
    },
    {
      "cell_type": "code",
      "source": [
        "if torch.cuda.is_available():\n",
        "  device = torch.device(\"cuda\")\n",
        "  x = torch.ones(5, device=device)\n",
        "  y = torch.ones(5)\n",
        "  y = y.to(\"cuda\")\n",
        "  z = x + y\n",
        "  print(z)\n",
        "  # Here you cant convert this tensor to numpy bcoz numpy cant directly access GPU tensors\n",
        "  # Numpy can access only cpu tensors\n",
        "  z = z.to(\"cpu\")\n",
        "  b = z.numpy()\n",
        "  print(b)\n",
        "\n"
      ],
      "metadata": {
        "colab": {
          "base_uri": "https://localhost:8080/"
        },
        "id": "85i6_L1UwuX0",
        "outputId": "6447b122-cdf3-4e61-8bc5-101052997a76"
      },
      "execution_count": 26,
      "outputs": [
        {
          "output_type": "stream",
          "name": "stdout",
          "text": [
            "tensor([2., 2., 2., 2., 2.], device='cuda:0')\n",
            "[2. 2. 2. 2. 2.]\n"
          ]
        }
      ]
    },
    {
      "cell_type": "markdown",
      "source": [
        "# **Making Gradients**"
      ],
      "metadata": {
        "id": "TesypMzAzFbW"
      }
    },
    {
      "cell_type": "code",
      "source": [
        "x = torch.ones(5, requires_grad=True)\n",
        "x"
      ],
      "metadata": {
        "colab": {
          "base_uri": "https://localhost:8080/"
        },
        "id": "CEwm5AtXzEpW",
        "outputId": "261a8f43-0041-4bc3-81f3-6ddc8cb6ef2b"
      },
      "execution_count": 27,
      "outputs": [
        {
          "output_type": "execute_result",
          "data": {
            "text/plain": [
              "tensor([1., 1., 1., 1., 1.], requires_grad=True)"
            ]
          },
          "metadata": {},
          "execution_count": 27
        }
      ]
    },
    {
      "cell_type": "code",
      "source": [],
      "metadata": {
        "id": "kE4vUlmox4jg"
      },
      "execution_count": null,
      "outputs": []
    }
  ]
}